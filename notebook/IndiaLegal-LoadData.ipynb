{
 "cells": [
  {
   "cell_type": "code",
   "execution_count": 2,
   "id": "strategic-bronze",
   "metadata": {},
   "outputs": [],
   "source": [
    "import pandas as pd"
   ]
  },
  {
   "cell_type": "code",
   "execution_count": 4,
   "id": "given-marble",
   "metadata": {},
   "outputs": [],
   "source": [
    "from py2neo import Graph, Node, Relationship"
   ]
  },
  {
   "cell_type": "code",
   "execution_count": 5,
   "id": "interested-castle",
   "metadata": {},
   "outputs": [],
   "source": [
    "from py2neo.bulk import merge_nodes, create_nodes, create_relationships, merge_relationships"
   ]
  },
  {
   "cell_type": "code",
   "execution_count": 6,
   "id": "middle-removal",
   "metadata": {},
   "outputs": [],
   "source": [
    "from math import ceil\n",
    "from time import time\n",
    "import gc\n",
    "import subprocess"
   ]
  },
  {
   "cell_type": "markdown",
   "id": "wrapped-portal",
   "metadata": {},
   "source": [
    "## Connect to graph"
   ]
  },
  {
   "cell_type": "code",
   "execution_count": 7,
   "id": "august-interim",
   "metadata": {},
   "outputs": [],
   "source": [
    "uri = \"bolt://localhost:7687\"\n",
    "user = \"neo4j\"\n",
    "pword = \"localadmin\""
   ]
  },
  {
   "cell_type": "code",
   "execution_count": 8,
   "id": "sized-missouri",
   "metadata": {},
   "outputs": [],
   "source": [
    "graph = Graph(uri, user=user, password=pword)"
   ]
  },
  {
   "cell_type": "markdown",
   "id": "bound-message",
   "metadata": {},
   "source": [
    "## Some utilities"
   ]
  },
  {
   "cell_type": "code",
   "execution_count": 9,
   "id": "adopted-arbor",
   "metadata": {},
   "outputs": [],
   "source": [
    "count_nodes = lambda node_type: graph.run(f\"match (n:{node_type}) return count(n) as count\").evaluate()"
   ]
  },
  {
   "cell_type": "code",
   "execution_count": 10,
   "id": "sixth-drain",
   "metadata": {},
   "outputs": [],
   "source": [
    "count_rels = lambda relationship: graph.run(f\"match ()-[r:{relationship}]->() return count(r) as count\").evaluate()"
   ]
  },
  {
   "cell_type": "code",
   "execution_count": 129,
   "id": "pharmaceutical-weekly",
   "metadata": {},
   "outputs": [],
   "source": [
    "# current counts\n",
    "number_judges = count_nodes(\"Judge\")\n",
    "number_cases = count_nodes(\"Case\")\n",
    "number_acts = count_nodes(\"Act\")"
   ]
  },
  {
   "cell_type": "code",
   "execution_count": 130,
   "id": "phantom-lancaster",
   "metadata": {},
   "outputs": [],
   "source": [
    "number_judge_rel = count_rels(\"JUDGED\")\n",
    "number_act_rel = count_rels(\"USES_ACT\")"
   ]
  },
  {
   "cell_type": "code",
   "execution_count": 131,
   "id": "right-structure",
   "metadata": {},
   "outputs": [
    {
     "name": "stdout",
     "output_type": "stream",
     "text": [
      "In graph: judges: 98478, cases: 98478, acts: 30847, judge-case rels: 2875323, case-act rels: 18377312\n"
     ]
    }
   ],
   "source": [
    "print(f\"In graph: judges: {number_judges}, cases: {number_judges}, acts: {number_acts}, judge-case rels: {number_judge_rel}, case-act rels: {number_act_rel}\")"
   ]
  },
  {
   "cell_type": "markdown",
   "id": "illegal-handy",
   "metadata": {},
   "source": [
    "## Load up judges and add them to the graph"
   ]
  },
  {
   "cell_type": "code",
   "execution_count": null,
   "id": "daily-digest",
   "metadata": {},
   "outputs": [],
   "source": [
    "jdf = pd.read_csv('../data/judges_clean.csv')"
   ]
  },
  {
   "cell_type": "code",
   "execution_count": null,
   "id": "affiliated-reliance",
   "metadata": {},
   "outputs": [],
   "source": [
    "jdf[\"start_date\"] = pd.to_datetime(jdf[\"start_date\"])\n",
    "jdf[\"end_date\"] = pd.to_datetime(jdf[\"end_date\"])"
   ]
  },
  {
   "cell_type": "code",
   "execution_count": null,
   "id": "present-commander",
   "metadata": {},
   "outputs": [],
   "source": [
    "jdf.describe()"
   ]
  },
  {
   "cell_type": "code",
   "execution_count": null,
   "id": "vocational-sacramento",
   "metadata": {},
   "outputs": [],
   "source": [
    "jdf.head(n=10)"
   ]
  },
  {
   "cell_type": "code",
   "execution_count": null,
   "id": "interesting-cartoon",
   "metadata": {},
   "outputs": [],
   "source": [
    "def manual_commit_judges(start_row=0, end_row=len(jdf)):\n",
    "    keys = [\"judge_id\", \"judge_position\", \"judge_female\", \"judge_start\", \"judge_end\"]\n",
    "    jslice = jdf[start_row:end_row].iterrows()\n",
    "    s1 = time()\n",
    "    data = [\n",
    "        [row[\"ddl_judge_id\"], \n",
    "         row[\"judge_position\"], \n",
    "         row[\"female_judge\"],\n",
    "         row[\"start_date\"].strftime(\"%Y-%m-%d\"),\n",
    "         \"\" if pd.isnull(row[\"end_date\"]) else row[\"end_date\"].strftime(\"%Y-%m-%d\")\n",
    "        ]\n",
    "    for index, row in jslice]\n",
    "    e1 = time()\n",
    "    #print(\"Time to process list: \", e1 - s1)\n",
    "    s2 = time()\n",
    "    create_nodes(graph.auto(), data, labels={\"Judge\"}, keys=keys)\n",
    "    e2 = time()\n",
    "    # print(\"Time to do TX: \", e2 - s2)"
   ]
  },
  {
   "cell_type": "code",
   "execution_count": null,
   "id": "sapphire-prompt",
   "metadata": {},
   "outputs": [],
   "source": [
    "def load_judges(batch_size=10000, delete_first=False, add_index=True):\n",
    "    gc.collect() # just being cautious, given size of things being handed around\n",
    "    if delete_first:\n",
    "        graph.run(\"match (n: Judge) detach delete n\")\n",
    "    for batch in range(0, ceil(len(jdf)/batch_size)):\n",
    "        print(\"Adding judges, batch: \", batch)\n",
    "        manual_commit_judges(start_row=batch * batch_size, end_row = (batch + 1) * batch_size)\n",
    "    print(\"Completed, number judges: \", graph.nodes.match(\"Judge\").count())\n",
    "    if add_index:\n",
    "        graph.run(\"CREATE CONSTRAINT IF NOT EXISTS idx_judge_id ON (judge:Judge) ASSERT judge.judge_id IS UNIQUE\")"
   ]
  },
  {
   "cell_type": "code",
   "execution_count": null,
   "id": "french-place",
   "metadata": {},
   "outputs": [],
   "source": [
    "# not necessary, but would be analogue of above\n",
    "load_judges_query = \"\"\"\n",
    "    load csv with headers from \"file:///judges_clean.csv\" as row\n",
    "    with \n",
    "        toInteger(row.ddl_judge_id) as judge_id, \n",
    "        row.judge_position as judge_position, \n",
    "        toInteger(row.state_code) as judge_state_code,\n",
    "        toInteger(row.dist_code) as judge_dist_code,\n",
    "        toInteger(row.court_no) as judge_court_no,\n",
    "        row.female_judge as judge_female,\n",
    "        apoc.date.parse(row.start_date, \"ms\", \"dd-MM-yyyy\") as judgeStartMs,\n",
    "        apoc.date.parse(row.end_date, \"ms\", \"dd-MM-yyyy\") as judgeEndMs,\n",
    "    return judge_id, judget_position, judge_state_code, judge_dist_code, judge_cour_no, judge_female limit 10;\n",
    "\"\"\""
   ]
  },
  {
   "cell_type": "markdown",
   "id": "extraordinary-differential",
   "metadata": {},
   "source": [
    "## Now load some cases"
   ]
  },
  {
   "cell_type": "code",
   "execution_count": 61,
   "id": "scheduled-greene",
   "metadata": {},
   "outputs": [],
   "source": [
    "def count_total_rows(csv_path):\n",
    "    with open(csv_path) as csvfile:\n",
    "        total_row_count = sum(1 for row in csvfile)\n",
    "        return total_row_count"
   ]
  },
  {
   "cell_type": "code",
   "execution_count": 43,
   "id": "pending-wiring",
   "metadata": {},
   "outputs": [],
   "source": [
    "def load_cases(case_file, start_row=0, number_rows=1e6):\n",
    "    cdf = pd.read_csv(case_file, nrows=number_rows, skiprows=range(1, int(start_row)))\n",
    "    cdf[\"date_of_filing\"] = pd.to_datetime(cdf[\"date_of_filing\"])\n",
    "    cdf[\"date_of_decision\"] = pd.to_datetime(cdf[\"date_of_decision\"], errors='coerce')\n",
    "    return cdf"
   ]
  },
  {
   "cell_type": "code",
   "execution_count": 44,
   "id": "experimental-cream",
   "metadata": {},
   "outputs": [],
   "source": [
    "# slightly heavy, given size\n",
    "total_cases = count_total_cases('../data/cases/cases_2018.csv')"
   ]
  },
  {
   "cell_type": "code",
   "execution_count": 45,
   "id": "empirical-alexandria",
   "metadata": {},
   "outputs": [
    {
     "name": "stdout",
     "output_type": "stream",
     "text": [
      "Number of cases in graph:  13724300  and in this graph:  2999999\n"
     ]
    }
   ],
   "source": [
    "cases_in_graph = count_nodes(\"Case\")\n",
    "print(\"Number of cases in graph: \", total_cases, \" and in this graph: \", cases_in_graph)"
   ]
  },
  {
   "cell_type": "code",
   "execution_count": 46,
   "id": "forbidden-strike",
   "metadata": {},
   "outputs": [],
   "source": [
    "cdf = load_cases('../data/cases/cases_2018.csv', start_row=2e6, number_rows=1e6)"
   ]
  },
  {
   "cell_type": "code",
   "execution_count": 47,
   "id": "harmful-dining",
   "metadata": {},
   "outputs": [
    {
     "data": {
      "text/html": [
       "<div>\n",
       "<style scoped>\n",
       "    .dataframe tbody tr th:only-of-type {\n",
       "        vertical-align: middle;\n",
       "    }\n",
       "\n",
       "    .dataframe tbody tr th {\n",
       "        vertical-align: top;\n",
       "    }\n",
       "\n",
       "    .dataframe thead th {\n",
       "        text-align: right;\n",
       "    }\n",
       "</style>\n",
       "<table border=\"1\" class=\"dataframe\">\n",
       "  <thead>\n",
       "    <tr style=\"text-align: right;\">\n",
       "      <th></th>\n",
       "      <th>ddl_case_id</th>\n",
       "      <th>year</th>\n",
       "      <th>state_code</th>\n",
       "      <th>dist_code</th>\n",
       "      <th>court_no</th>\n",
       "      <th>judge_position</th>\n",
       "      <th>female_defendant</th>\n",
       "      <th>female_adv_def</th>\n",
       "      <th>female_adv_pet</th>\n",
       "      <th>type_name</th>\n",
       "      <th>purpose_name</th>\n",
       "      <th>disp_name</th>\n",
       "      <th>date_of_filing</th>\n",
       "      <th>date_of_decision</th>\n",
       "      <th>date_first_list</th>\n",
       "      <th>date_last_list</th>\n",
       "      <th>date_next_list</th>\n",
       "    </tr>\n",
       "  </thead>\n",
       "  <tbody>\n",
       "    <tr>\n",
       "      <th>0</th>\n",
       "      <td>10-03-27-232301013862018</td>\n",
       "      <td>2018</td>\n",
       "      <td>10</td>\n",
       "      <td>3</td>\n",
       "      <td>27</td>\n",
       "      <td>judicial magistrate court</td>\n",
       "      <td>0 male</td>\n",
       "      <td>-9999</td>\n",
       "      <td>0</td>\n",
       "      <td>6950</td>\n",
       "      <td>450.0</td>\n",
       "      <td>17</td>\n",
       "      <td>2018-09-06</td>\n",
       "      <td>2018-09-08</td>\n",
       "      <td>2018-09-08</td>\n",
       "      <td>2018-09-08</td>\n",
       "      <td>2018-09-08</td>\n",
       "    </tr>\n",
       "    <tr>\n",
       "      <th>1</th>\n",
       "      <td>10-27-10-232300002762018</td>\n",
       "      <td>2018</td>\n",
       "      <td>10</td>\n",
       "      <td>27</td>\n",
       "      <td>10</td>\n",
       "      <td>judicial magistrate court</td>\n",
       "      <td>0 male</td>\n",
       "      <td>-9999</td>\n",
       "      <td>0</td>\n",
       "      <td>6950</td>\n",
       "      <td>277.0</td>\n",
       "      <td>17</td>\n",
       "      <td>2018-07-14</td>\n",
       "      <td>2018-07-14</td>\n",
       "      <td>2018-07-14</td>\n",
       "      <td>2018-07-14</td>\n",
       "      <td>2018-07-14</td>\n",
       "    </tr>\n",
       "    <tr>\n",
       "      <th>2</th>\n",
       "      <td>14-20-01-203400003012018</td>\n",
       "      <td>2018</td>\n",
       "      <td>14</td>\n",
       "      <td>20</td>\n",
       "      <td>1</td>\n",
       "      <td>district and sessions court</td>\n",
       "      <td>0 male</td>\n",
       "      <td>1</td>\n",
       "      <td>0</td>\n",
       "      <td>6680</td>\n",
       "      <td>5877.0</td>\n",
       "      <td>17</td>\n",
       "      <td>2018-11-26</td>\n",
       "      <td>2019-09-18</td>\n",
       "      <td>2018-11-26</td>\n",
       "      <td>2019-09-18</td>\n",
       "      <td>2019-09-18</td>\n",
       "    </tr>\n",
       "    <tr>\n",
       "      <th>3</th>\n",
       "      <td>16-10-02-204300000422018</td>\n",
       "      <td>2018</td>\n",
       "      <td>16</td>\n",
       "      <td>10</td>\n",
       "      <td>2</td>\n",
       "      <td>district and sessions court</td>\n",
       "      <td>1 female</td>\n",
       "      <td>-9999</td>\n",
       "      <td>-9999</td>\n",
       "      <td>7067</td>\n",
       "      <td>5053.0</td>\n",
       "      <td>17</td>\n",
       "      <td>2018-03-09</td>\n",
       "      <td>2018-12-10</td>\n",
       "      <td>2018-03-13</td>\n",
       "      <td>2018-12-10</td>\n",
       "      <td>2018-12-10</td>\n",
       "    </tr>\n",
       "    <tr>\n",
       "      <th>4</th>\n",
       "      <td>10-15-27-232320003462018</td>\n",
       "      <td>2018</td>\n",
       "      <td>10</td>\n",
       "      <td>15</td>\n",
       "      <td>27</td>\n",
       "      <td>judicial magistrate court</td>\n",
       "      <td>0 male</td>\n",
       "      <td>-9999</td>\n",
       "      <td>0</td>\n",
       "      <td>6950</td>\n",
       "      <td>450.0</td>\n",
       "      <td>17</td>\n",
       "      <td>2018-09-08</td>\n",
       "      <td>2018-09-08</td>\n",
       "      <td>2018-09-08</td>\n",
       "      <td>2018-09-08</td>\n",
       "      <td>2018-09-08</td>\n",
       "    </tr>\n",
       "  </tbody>\n",
       "</table>\n",
       "</div>"
      ],
      "text/plain": [
       "                ddl_case_id  year  state_code  dist_code  court_no  \\\n",
       "0  10-03-27-232301013862018  2018          10          3        27   \n",
       "1  10-27-10-232300002762018  2018          10         27        10   \n",
       "2  14-20-01-203400003012018  2018          14         20         1   \n",
       "3  16-10-02-204300000422018  2018          16         10         2   \n",
       "4  10-15-27-232320003462018  2018          10         15        27   \n",
       "\n",
       "                judge_position female_defendant  female_adv_def  \\\n",
       "0    judicial magistrate court           0 male           -9999   \n",
       "1    judicial magistrate court           0 male           -9999   \n",
       "2  district and sessions court           0 male               1   \n",
       "3  district and sessions court         1 female           -9999   \n",
       "4    judicial magistrate court           0 male           -9999   \n",
       "\n",
       "   female_adv_pet  type_name  purpose_name  disp_name date_of_filing  \\\n",
       "0               0       6950         450.0         17     2018-09-06   \n",
       "1               0       6950         277.0         17     2018-07-14   \n",
       "2               0       6680        5877.0         17     2018-11-26   \n",
       "3           -9999       7067        5053.0         17     2018-03-09   \n",
       "4               0       6950         450.0         17     2018-09-08   \n",
       "\n",
       "  date_of_decision date_first_list date_last_list date_next_list  \n",
       "0       2018-09-08      2018-09-08     2018-09-08     2018-09-08  \n",
       "1       2018-07-14      2018-07-14     2018-07-14     2018-07-14  \n",
       "2       2019-09-18      2018-11-26     2019-09-18     2019-09-18  \n",
       "3       2018-12-10      2018-03-13     2018-12-10     2018-12-10  \n",
       "4       2018-09-08      2018-09-08     2018-09-08     2018-09-08  "
      ]
     },
     "execution_count": 47,
     "metadata": {},
     "output_type": "execute_result"
    }
   ],
   "source": [
    "cdf.head()"
   ]
  },
  {
   "cell_type": "code",
   "execution_count": 48,
   "id": "competitive-knife",
   "metadata": {},
   "outputs": [],
   "source": [
    "def manual_commit_cases(df, start_row=0, end_row=len(cdf), use_merge=True):\n",
    "    keys = [\"case_id\", \"year\", \"state_code\", \"dist_code\", \"court_no\", \"judge_position\", \"date_of_filing\", \"date_of_decision\"]\n",
    "    cslice = df[start_row:end_row].iterrows()\n",
    "    s1 = time()\n",
    "    data = [\n",
    "        [row[\"ddl_case_id\"], \n",
    "         row[\"year\"], \n",
    "         row[\"state_code\"],\n",
    "         row[\"dist_code\"],\n",
    "         row[\"court_no\"],\n",
    "         row[\"judge_position\"],\n",
    "         row[\"date_of_filing\"].strftime(\"%Y-%m-%d\"),\n",
    "         \"\" if pd.isnull(row[\"date_of_decision\"]) else row[\"date_of_decision\"].strftime(\"%Y-%m-%d\")\n",
    "        ]\n",
    "    for index, row in cslice]\n",
    "    e1 = time()\n",
    "    #print(\"Time to process list: \", e1 - s1)\n",
    "    s2 = time()\n",
    "    if use_merge:\n",
    "        merge_nodes(graph.auto(), data, merge_key=(\"Case\", \"case_id\"), labels={\"Case\"}, keys=keys)\n",
    "    else:\n",
    "        create_nodes(graph.auto(), data, labels={\"Case\"}, keys=keys)\n",
    "    e2 = time()\n",
    "    print(\"Time to do TX: \", e2 - s2)"
   ]
  },
  {
   "cell_type": "code",
   "execution_count": 49,
   "id": "amended-registration",
   "metadata": {},
   "outputs": [],
   "source": [
    "def commit_cases_df(cdf, batch_size=50000, delete_first=False, add_index=False):\n",
    "    gc.collect()\n",
    "    if delete_first:\n",
    "        graph.run(\"match (n: Case) detach delete n\")\n",
    "    \n",
    "    for batch in range(0, ceil(len(cdf)/batch_size)):\n",
    "        print(\"Loading cases, batch: \", batch)\n",
    "        manual_commit_cases(cdf, start_row=batch * batch_size, end_row = (batch + 1) * batch_size)\n",
    "    \n",
    "    if add_index: \n",
    "        graph.run(\"CREATE CONSTRAINT IF NOT EXISTS idx_case_id ON (case:Case) ASSERT case.case_id IS UNIQUE\")"
   ]
  },
  {
   "cell_type": "code",
   "execution_count": 50,
   "id": "mexican-forty",
   "metadata": {},
   "outputs": [],
   "source": [
    "number_cases = count_nodes(\"Case\")"
   ]
  },
  {
   "cell_type": "code",
   "execution_count": null,
   "id": "cultural-equity",
   "metadata": {
    "scrolled": false
   },
   "outputs": [],
   "source": [
    "while number_cases < total_cases:\n",
    "    start_row = number_cases + 1\n",
    "    print(\"Loading cases from: \", start_row)\n",
    "    cdf = load_cases('../data/cases/cases_2018.csv', start_row=start_row, number_rows=1e6)\n",
    "    commit_cases_df(cdf, batch_size=50000)\n",
    "    number_cases = count_nodes(\"Case\")\n",
    "\n",
    "# while number_in_graph < number_relationships and i < max_iter:\n",
    "#     number_in_graph = add_batch_judge_relationships(minor_batch_size=200, major_batch_size=100000, use_merge=False)\n",
    "#     i += 1"
   ]
  },
  {
   "cell_type": "markdown",
   "id": "useful-wichita",
   "metadata": {},
   "source": [
    "## Heavy lift: judge-case relationships"
   ]
  },
  {
   "cell_type": "code",
   "execution_count": 11,
   "id": "floppy-missouri",
   "metadata": {},
   "outputs": [],
   "source": [
    "all_case_ids = pd.read_csv('../data/cases/cases_2018.csv', usecols=['ddl_case_id'])"
   ]
  },
  {
   "cell_type": "code",
   "execution_count": 12,
   "id": "convenient-fountain",
   "metadata": {},
   "outputs": [],
   "source": [
    "df = pd.read_csv('../data/keys/judge_case_merge_key.csv')"
   ]
  },
  {
   "cell_type": "code",
   "execution_count": 13,
   "id": "potential-bennett",
   "metadata": {},
   "outputs": [
    {
     "data": {
      "text/plain": [
       "12901146"
      ]
     },
     "execution_count": 13,
     "metadata": {},
     "output_type": "execute_result"
    }
   ],
   "source": [
    "len(df)"
   ]
  },
  {
   "cell_type": "code",
   "execution_count": 14,
   "id": "still-canal",
   "metadata": {},
   "outputs": [],
   "source": [
    "sdf = df[df.ddl_case_id.isin(all_case_ids.ddl_case_id)]"
   ]
  },
  {
   "cell_type": "code",
   "execution_count": 15,
   "id": "frequent-rebecca",
   "metadata": {},
   "outputs": [
    {
     "data": {
      "text/html": [
       "<div>\n",
       "<style scoped>\n",
       "    .dataframe tbody tr th:only-of-type {\n",
       "        vertical-align: middle;\n",
       "    }\n",
       "\n",
       "    .dataframe tbody tr th {\n",
       "        vertical-align: top;\n",
       "    }\n",
       "\n",
       "    .dataframe thead th {\n",
       "        text-align: right;\n",
       "    }\n",
       "</style>\n",
       "<table border=\"1\" class=\"dataframe\">\n",
       "  <thead>\n",
       "    <tr style=\"text-align: right;\">\n",
       "      <th></th>\n",
       "      <th>ddl_case_id</th>\n",
       "      <th>ddl_filing_judge_id</th>\n",
       "      <th>ddl_decision_judge_id</th>\n",
       "    </tr>\n",
       "  </thead>\n",
       "  <tbody>\n",
       "    <tr>\n",
       "      <th>0</th>\n",
       "      <td>01-01-01-201900000022018</td>\n",
       "      <td>5.0</td>\n",
       "      <td>5.0</td>\n",
       "    </tr>\n",
       "    <tr>\n",
       "      <th>2</th>\n",
       "      <td>01-01-01-201900000032018</td>\n",
       "      <td>94.0</td>\n",
       "      <td>94.0</td>\n",
       "    </tr>\n",
       "    <tr>\n",
       "      <th>4</th>\n",
       "      <td>01-01-01-201900000042018</td>\n",
       "      <td>156.0</td>\n",
       "      <td>156.0</td>\n",
       "    </tr>\n",
       "    <tr>\n",
       "      <th>6</th>\n",
       "      <td>01-01-01-201900000052018</td>\n",
       "      <td>5.0</td>\n",
       "      <td>5.0</td>\n",
       "    </tr>\n",
       "    <tr>\n",
       "      <th>8</th>\n",
       "      <td>01-01-01-201900000062018</td>\n",
       "      <td>5.0</td>\n",
       "      <td>6.0</td>\n",
       "    </tr>\n",
       "  </tbody>\n",
       "</table>\n",
       "</div>"
      ],
      "text/plain": [
       "                ddl_case_id  ddl_filing_judge_id  ddl_decision_judge_id\n",
       "0  01-01-01-201900000022018                  5.0                    5.0\n",
       "2  01-01-01-201900000032018                 94.0                   94.0\n",
       "4  01-01-01-201900000042018                156.0                  156.0\n",
       "6  01-01-01-201900000052018                  5.0                    5.0\n",
       "8  01-01-01-201900000062018                  5.0                    6.0"
      ]
     },
     "execution_count": 15,
     "metadata": {},
     "output_type": "execute_result"
    }
   ],
   "source": [
    "sdf.head()"
   ]
  },
  {
   "cell_type": "code",
   "execution_count": 16,
   "id": "touched-pride",
   "metadata": {},
   "outputs": [
    {
     "name": "stdout",
     "output_type": "stream",
     "text": [
      "Without dups:  2983723  vs raw:  2983723\n"
     ]
    }
   ],
   "source": [
    "dedup_sdf = sdf[[\"ddl_case_id\", \"ddl_filing_judge_id\"]].drop_duplicates()\n",
    "print(\"Without dups: \", len(dedup_sdf), \" vs raw: \", len(sdf))"
   ]
  },
  {
   "cell_type": "code",
   "execution_count": 17,
   "id": "reverse-marketplace",
   "metadata": {},
   "outputs": [
    {
     "name": "stdout",
     "output_type": "stream",
     "text": [
      "Number relationships in data:  2983723  and in graph:  370636\n"
     ]
    }
   ],
   "source": [
    "number_relationships = len(sdf)\n",
    "number_in_graph = count_rels(\"JUDGED\")\n",
    "print(\"Number relationships in data: \", number_relationships, \" and in graph: \", number_in_graph)"
   ]
  },
  {
   "cell_type": "code",
   "execution_count": 56,
   "id": "confirmed-webcam",
   "metadata": {},
   "outputs": [],
   "source": [
    "# Note: use merge seems to return a lot of false positives on supposed duplicates, so defaulting to false for now\n",
    "# ensure to do a thorough search to make sure no false duplicates later\n",
    "def add_batch_judge_relationships(minor_batch_size=20, major_batch_size=10000, index_offset=0, use_merge=True):\n",
    "    start_index = count_rels(\"JUDGED\") + index_offset\n",
    "    end_index = start_index + major_batch_size\n",
    "    print(f\"Adding relationships from {start_index} to {end_index}\")\n",
    "    data = [\n",
    "        (row[\"ddl_filing_judge_id\"], { \"type\": \"FILING_JUDGE\" }, row[\"ddl_case_id\"])\n",
    "        for index, row in sdf[start_index:end_index].iterrows()\n",
    "    ]\n",
    "    print(\"Numer of rows to add: \", len(data))\n",
    "    print(\"Minor iterations: \", ceil(len(data) / minor_batch_size))\n",
    "\n",
    "    for i in range(ceil(len(data) / minor_batch_size)):\n",
    "        this_batch = data[i * minor_batch_size:(i + 1) * minor_batch_size]\n",
    "        if i % 10 == 0:\n",
    "            print(\".\", end=\"\")\n",
    "\n",
    "        if use_merge:\n",
    "            merge_relationships(graph.auto(), this_batch,\n",
    "                               \"JUDGED\", start_node_key=(\"Judge\", \"judge_id\"), end_node_key=(\"Case\", \"case_id\"))\n",
    "        else:\n",
    "            create_relationships(graph.auto(), this_batch, \n",
    "                                 \"JUDGED\", start_node_key=(\"Judge\", \"judge_id\"), end_node_key=(\"Case\", \"case_id\"))\n",
    "\n",
    "    number_in_graph = count_rels(\"JUDGED\")\n",
    "    print(\"Completed a major addition, number in graph now: \", number_in_graph)\n",
    "    return number_in_graph"
   ]
  },
  {
   "cell_type": "code",
   "execution_count": 57,
   "id": "flush-aberdeen",
   "metadata": {},
   "outputs": [
    {
     "name": "stdout",
     "output_type": "stream",
     "text": [
      "Number in graph:  811479\n"
     ]
    }
   ],
   "source": [
    "number_in_graph = count_rels(\"JUDGED\")\n",
    "print(\"Number in graph: \", number_in_graph)"
   ]
  },
  {
   "cell_type": "code",
   "execution_count": 58,
   "id": "thrown-flash",
   "metadata": {},
   "outputs": [
    {
     "name": "stdout",
     "output_type": "stream",
     "text": [
      "Adding relationships from 811479 to 911479\n",
      "Numer of rows to add:  100000\n",
      "Minor iterations:  500\n",
      "..................................................Completed a major addition, number in graph now:  883603\n"
     ]
    },
    {
     "data": {
      "text/plain": [
       "883603"
      ]
     },
     "execution_count": 58,
     "metadata": {},
     "output_type": "execute_result"
    }
   ],
   "source": [
    "add_batch_judge_relationships(minor_batch_size=200, major_batch_size=100000, use_merge=True)"
   ]
  },
  {
   "cell_type": "code",
   "execution_count": null,
   "id": "disturbed-diana",
   "metadata": {},
   "outputs": [],
   "source": [
    "i = 0\n",
    "max_iter = 20\n",
    "while number_in_graph < number_relationships and i < max_iter:\n",
    "    number_in_graph = add_batch_judge_relationships(minor_batch_size=200, major_batch_size=100000, use_merge=False)\n",
    "    i += 1"
   ]
  },
  {
   "cell_type": "code",
   "execution_count": 60,
   "id": "automatic-federation",
   "metadata": {},
   "outputs": [
    {
     "name": "stdout",
     "output_type": "stream",
     "text": [
      "In graph:  2875323  and in frame:  2983723\n"
     ]
    }
   ],
   "source": [
    "print(\"In graph: \", number_in_graph, \" and in frame: \", len(sdf))"
   ]
  },
  {
   "cell_type": "markdown",
   "id": "unexpected-slide",
   "metadata": {},
   "source": [
    "## Load in the acts and sections"
   ]
  },
  {
   "cell_type": "code",
   "execution_count": null,
   "id": "comparative-study",
   "metadata": {},
   "outputs": [],
   "source": [
    "def add_acts_to_graph(df, row_keys, node_keys, start_row=0, end_row=None, create_index=False):\n",
    "    cslice = df[start_row:end_row].iterrows()\n",
    "    data = [[row[key] for key in row_keys] for index, row in cslice]\n",
    "    print(\"Assembled list, adding to graph\")\n",
    "    create_nodes(graph.auto(), data, labels={\"Act\"}, keys=node_keys)\n",
    "    if create_index:\n",
    "        graph.run(\"create constrain idx_act_id on (a:Act) assert a.act_id IS UNIQUE\")"
   ]
  },
  {
   "cell_type": "code",
   "execution_count": null,
   "id": "documentary-machine",
   "metadata": {},
   "outputs": [],
   "source": [
    "acts = pd.read_csv('../data/keys/act_key.csv')\n",
    "acts = acts[3:] # first rows are NA and ' and \"\n",
    "acts.head()"
   ]
  },
  {
   "cell_type": "code",
   "execution_count": null,
   "id": "distinct-convenience",
   "metadata": {},
   "outputs": [],
   "source": [
    "act_df_keys = [\"act\", \"count\", \"act_s\"]\n",
    "node_keys = [\"act_id\", \"total_count\", \"act_sum\"]"
   ]
  },
  {
   "cell_type": "code",
   "execution_count": null,
   "id": "innocent-harvard",
   "metadata": {},
   "outputs": [],
   "source": [
    "add_acts_to_graph(df=acts, row_keys=act_df_keys, node_keys=node_keys)"
   ]
  },
  {
   "cell_type": "code",
   "execution_count": null,
   "id": "progressive-dallas",
   "metadata": {},
   "outputs": [],
   "source": [
    "len(acts)"
   ]
  },
  {
   "cell_type": "code",
   "execution_count": null,
   "id": "successful-branch",
   "metadata": {},
   "outputs": [],
   "source": [
    "# there are _a lot_ of these, and all are central, so distort things, so remove\n",
    "criminal_procedure_variants = [\n",
    "    \"CODE OF CRIMINAL PROCEDURE, 1973\",\n",
    "    \"Code of Criminal Procedure, 1973\",\n",
    "    \"Code of Criminal Procedure 1973\",\n",
    "    \"CODE OF CRIMINAL PROCEDURE\",\n",
    "    \"Criminal Procedure Code\",\n",
    "    \"Code of Criminal Procedure, 1973 1974\",\n",
    "    \"CodeofCriminalProcedure\",\n",
    "    \"Cr.P.C. \",\n",
    "    \"Code of Criminal Procedure\",\n",
    "    \"2.Code of Criminal Procedure, 1973\",\n",
    "    \"Cr.P.C.\",\n",
    "    \"Cr.P.C\",\n",
    "    \"Cr.P.c\",\n",
    "    \"CR.P.C\"\n",
    "]"
   ]
  },
  {
   "cell_type": "markdown",
   "id": "sonic-union",
   "metadata": {},
   "source": [
    "## Now do act-section relationships"
   ]
  },
  {
   "cell_type": "code",
   "execution_count": 62,
   "id": "democratic-shelf",
   "metadata": {},
   "outputs": [],
   "source": [
    "total_act_section_rels = count_total_rows('../data/acts_sections.csv')"
   ]
  },
  {
   "cell_type": "code",
   "execution_count": 64,
   "id": "radio-snowboard",
   "metadata": {},
   "outputs": [
    {
     "name": "stdout",
     "output_type": "stream",
     "text": [
      "Number of total relationships:  76811358  and in graph:  84706\n"
     ]
    }
   ],
   "source": [
    "rels_in_graph = count_rels('USES_ACT')\n",
    "print('Number of total relationships: ', total_act_section_rels, ' and in graph: ', rels_in_graph)"
   ]
  },
  {
   "cell_type": "code",
   "execution_count": 89,
   "id": "raising-providence",
   "metadata": {},
   "outputs": [],
   "source": [
    "def load_act_section_rels(case_df, start_row=0, number_rows=1e6):\n",
    "    act_case_df = pd.read_csv('../data/acts_sections.csv', nrows=number_rows, skiprows=range(1, int(start_row)))\n",
    "    adf = act_case_df[act_case_df.ddl_case_id.isin(case_df.ddl_case_id)]\n",
    "    return adf"
   ]
  },
  {
   "cell_type": "code",
   "execution_count": 120,
   "id": "occupational-journal",
   "metadata": {},
   "outputs": [],
   "source": [
    "def add_batch_act_relationships(adf, relationship_type=\"USES_ACT\", df_start=0, minor_batch_size=20, major_batch_size=1000, use_merge=True):\n",
    "    number_in_graph = count_rels(relationship_type)\n",
    "    start_index = int(df_start)\n",
    "    end_index = max(len(adf), int(start_index + major_batch_size))\n",
    "    print(f\"Adding relationships of type {relationship_type} from {start_index} to {end_index}\")\n",
    "    data = [\n",
    "        (row[\"ddl_case_id\"], { \"type\": relationship_type }, row[\"act\"])\n",
    "        for index, row in adf[start_index:end_index].iterrows()\n",
    "    ]\n",
    "    \n",
    "    start_time = time()\n",
    "    for i in range(ceil(len(data) / minor_batch_size)):\n",
    "        if i % 10 == 0:\n",
    "            print(\".\", end=\"\")\n",
    "            \n",
    "        create_relationships(graph.auto(), \n",
    "                             data[i * minor_batch_size:(i + 1) * minor_batch_size], \n",
    "                             relationship_type, \n",
    "                             start_node_key=(\"Case\", \"case_id\"), \n",
    "                             end_node_key=(\"Act\", \"act_id\"))\n",
    "    \n",
    "    number_in_graph = count_rels(relationship_type)\n",
    "    print(\"\\nCompleted a major addition, number in graph now: \", number_in_graph, \" took: \", int(time() - start_time))\n",
    "    return number_in_graph, end_index"
   ]
  },
  {
   "cell_type": "code",
   "execution_count": 124,
   "id": "musical-blank",
   "metadata": {},
   "outputs": [],
   "source": [
    "max_df_loads = 10\n",
    "df_read_start = number_in_graph\n",
    "rows_per_df = 5e6\n",
    "i = 0"
   ]
  },
  {
   "cell_type": "code",
   "execution_count": 125,
   "id": "double-sleep",
   "metadata": {},
   "outputs": [
    {
     "name": "stdout",
     "output_type": "stream",
     "text": [
      "Would start from:  16628617\n",
      "So in fact: 65020612\n"
     ]
    }
   ],
   "source": [
    "print('Would start from: ', number_in_graph)\n",
    "last_stop = 60020612 # where last stopped - a little manual for now\n",
    "df_read_start = int(last_stop + rows_per_df)\n",
    "print('So in fact:', df_read_start)"
   ]
  },
  {
   "cell_type": "code",
   "execution_count": 126,
   "id": "applicable-thriller",
   "metadata": {},
   "outputs": [
    {
     "name": "stdout",
     "output_type": "stream",
     "text": [
      "Initiating outer loop, loading dataframe, from row:  65020612\n",
      "Length of this relationship frame:  905307\n",
      "Adding relationships of type USES_ACT from 0 to 1000000\n",
      "...........................................................................................\n",
      "Completed a major addition, number in graph now:  17532478  took:  55\n",
      "Completed major batch load, end index:  1000000\n",
      "Completed loading this DF\n",
      "Initiating outer loop, loading dataframe, from row:  70020612.0\n",
      "Length of this relationship frame:  613285\n",
      "Adding relationships of type USES_ACT from 0 to 1000000\n",
      "..............................................................\n",
      "Completed a major addition, number in graph now:  18144663  took:  36\n",
      "Completed major batch load, end index:  1000000\n",
      "Completed loading this DF\n",
      "Initiating outer loop, loading dataframe, from row:  75020612.0\n",
      "Length of this relationship frame:  233205\n",
      "Adding relationships of type USES_ACT from 0 to 1000000\n",
      "........................\n",
      "Completed a major addition, number in graph now:  18377312  took:  13\n",
      "Completed major batch load, end index:  1000000\n",
      "Completed loading this DF\n"
     ]
    }
   ],
   "source": [
    "while number_in_graph < total_act_section_rels and df_read_start < total_act_section_rels and i < max_df_loads:\n",
    "    print('Initiating outer loop, loading dataframe, from row: ', df_read_start)\n",
    "    adf = load_act_section_rels(all_case_ids, start_row=df_read_start, number_rows=rows_per_df)\n",
    "    print('Length of this relationship frame: ', len(adf))\n",
    "    end_index = 0\n",
    "    while end_index < len(adf):\n",
    "        number_in_graph, end_index = add_batch_act_relationships(\n",
    "            adf, minor_batch_size=int(1e3), major_batch_size=int(1e6), df_start=end_index)\n",
    "        print('Completed major batch load, end index: ', end_index)\n",
    "    \n",
    "    print('Completed loading this DF')\n",
    "    number_in_graph = count_rels('USES_ACT')\n",
    "    df_read_start += rows_per_df # to avoid the duplicates (given adf length < df read length)\n",
    "    i += 1"
   ]
  },
  {
   "cell_type": "code",
   "execution_count": 122,
   "id": "approximate-registration",
   "metadata": {},
   "outputs": [
    {
     "name": "stdout",
     "output_type": "stream",
     "text": [
      "76811358\n"
     ]
    }
   ],
   "source": [
    "print(total_act_section_rels)"
   ]
  }
 ],
 "metadata": {
  "kernelspec": {
   "display_name": "legalgraph",
   "language": "python",
   "name": "legalgraph"
  },
  "language_info": {
   "codemirror_mode": {
    "name": "ipython",
    "version": 3
   },
   "file_extension": ".py",
   "mimetype": "text/x-python",
   "name": "python",
   "nbconvert_exporter": "python",
   "pygments_lexer": "ipython3",
   "version": "3.8.5"
  }
 },
 "nbformat": 4,
 "nbformat_minor": 5
}
