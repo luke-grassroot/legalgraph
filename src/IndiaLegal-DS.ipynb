{
 "cells": [
  {
   "cell_type": "code",
   "execution_count": 1,
   "id": "chief-south",
   "metadata": {},
   "outputs": [],
   "source": [
    "from py2neo import Graph, Node, Relationship"
   ]
  },
  {
   "cell_type": "code",
   "execution_count": 4,
   "id": "hindu-margin",
   "metadata": {},
   "outputs": [],
   "source": [
    "uri = \"bolt://localhost:7687\"\n",
    "user = \"neo4j\"\n",
    "password = \"localadmin\"\n",
    "graph = Graph(uri, user=user, password=password)"
   ]
  },
  {
   "cell_type": "code",
   "execution_count": 12,
   "id": "legal-neighborhood",
   "metadata": {},
   "outputs": [],
   "source": [
    "graph_create_query = \"\"\"\n",
    "    CALL gds.graph.create('judge-case-act-graph', ['Judge', 'Case', 'Act'], '*') YIELD graphName, nodeCount, relationshipCount, createMillis;\n",
    "\"\"\""
   ]
  },
  {
   "cell_type": "markdown",
   "id": "hollywood-ethnic",
   "metadata": {},
   "source": [
    "*Note*: For present, best to run in Neo4J browser, but recording here.\n",
    "*Note*: At present the graph needs a heap size of ~600-700mb, and default Neo4J setting is 512mb, so increase that before running these to avoid out of memory errors"
   ]
  },
  {
   "cell_type": "code",
   "execution_count": 10,
   "id": "valid-family",
   "metadata": {},
   "outputs": [],
   "source": [
    "result = graph.run(graph_create_query).evaluate()"
   ]
  },
  {
   "cell_type": "code",
   "execution_count": 13,
   "id": "internal-acrylic",
   "metadata": {},
   "outputs": [
    {
     "data": {
      "text/plain": [
       "'judge-case-act-graph'"
      ]
     },
     "execution_count": 13,
     "metadata": {},
     "output_type": "execute_result"
    }
   ],
   "source": [
    "result"
   ]
  },
  {
   "cell_type": "code",
   "execution_count": 14,
   "id": "awful-serum",
   "metadata": {},
   "outputs": [],
   "source": [
    "page_rank_run_query = \"\"\"\n",
    "    CALL gds.pageRank.stream('judge-case-act-graph')\n",
    "    YIELD nodeId, score\n",
    "    RETURN gds.util.asNode(nodeId).act_sum AS act_name, score\n",
    "    ORDER BY score DESC, act_name ASC limit 10;\n",
    "\"\"\""
   ]
  },
  {
   "cell_type": "code",
   "execution_count": null,
   "id": "forced-patient",
   "metadata": {},
   "outputs": [],
   "source": []
  }
 ],
 "metadata": {
  "kernelspec": {
   "display_name": "legalgraph",
   "language": "python",
   "name": "legalgraph"
  },
  "language_info": {
   "codemirror_mode": {
    "name": "ipython",
    "version": 3
   },
   "file_extension": ".py",
   "mimetype": "text/x-python",
   "name": "python",
   "nbconvert_exporter": "python",
   "pygments_lexer": "ipython3",
   "version": "3.8.5"
  }
 },
 "nbformat": 4,
 "nbformat_minor": 5
}
