{
 "cells": [
  {
   "cell_type": "markdown",
   "metadata": {},
   "source": [
    "# Gender"
   ]
  },
  {
   "cell_type": "markdown",
   "metadata": {},
   "source": [
    "## Queries: case count"
   ]
  },
  {
   "cell_type": "markdown",
   "metadata": {},
   "source": [
    "`MATCH (n:Case) RETURN COUNT(n)`"
   ]
  },
  {
   "cell_type": "markdown",
   "metadata": {},
   "source": [
    "13,724,299 total cases"
   ]
  },
  {
   "cell_type": "markdown",
   "metadata": {},
   "source": [
    "`MATCH (n:Case {female_defendant: \"0 male\"}) RETURN COUNT(n)`"
   ]
  },
  {
   "cell_type": "markdown",
   "metadata": {},
   "source": [
    "5,150,275 cases with male defendants (0.429965348313 of total classified)"
   ]
  },
  {
   "cell_type": "markdown",
   "metadata": {},
   "source": [
    "`MATCH (n:Case {female_defendant: \"1 female\"}) RETURN COUNT(n)`"
   ]
  },
  {
   "cell_type": "markdown",
   "metadata": {},
   "source": [
    "6,828,074 cases with female defendants (0.570034651687 of total classified)"
   ]
  },
  {
   "cell_type": "markdown",
   "metadata": {},
   "source": [
    "1,745,950 cases with unclassified gender defendant"
   ]
  },
  {
   "cell_type": "markdown",
   "metadata": {},
   "source": [
    "**Summary:** Slight majority of cases have female defendants (unclear which way nonclassified case defendants lean)."
   ]
  },
  {
   "cell_type": "markdown",
   "metadata": {},
   "source": [
    "## Queries: judge count"
   ]
  },
  {
   "cell_type": "markdown",
   "metadata": {},
   "source": [
    "`MATCH (n:Judge) RETURN count(n)`"
   ]
  },
  {
   "cell_type": "markdown",
   "metadata": {},
   "source": [
    "98,478 total judges"
   ]
  },
  {
   "cell_type": "markdown",
   "metadata": {},
   "source": [
    "`MATCH (n:Judge {judge_female: \"0 nonfemale\"}) RETURN count(n)`"
   ]
  },
  {
   "cell_type": "markdown",
   "metadata": {},
   "source": [
    "67,540 nonfemale judges (0.712883409681 of total)"
   ]
  },
  {
   "cell_type": "markdown",
   "metadata": {},
   "source": [
    "`MATCH (n:Judge {judge_female: \"1 female\"}) RETURN count(n)`"
   ]
  },
  {
   "cell_type": "markdown",
   "metadata": {},
   "source": [
    "27,202 female judges (0.287116590319 of total)"
   ]
  },
  {
   "cell_type": "markdown",
   "metadata": {},
   "source": [
    "**Summary:** Large majority of judges are nonfemale."
   ]
  },
  {
   "cell_type": "markdown",
   "metadata": {},
   "source": [
    "## Query: centraility"
   ]
  },
  {
   "cell_type": "markdown",
   "metadata": {},
   "source": [
    "`MATCH (n:Case) RETURN n.case_id AS id, n.female_defendant, n.page_rank_score ORDER BY n.page_rank_score DESC`"
   ]
  },
  {
   "cell_type": "markdown",
   "metadata": {},
   "source": [
    "Of top 25 most central cases, 9 defendants are female, 3 are male (rest are undefined); females are spots 2-4 (1 is undefined). The most central three cases with female defendants all were in the state Assam (id: 23) and used the Code of Criminal Procedure."
   ]
  },
  {
   "cell_type": "markdown",
   "metadata": {},
   "source": [
    "`MATCH (n:Case) RETURN AVG(n.page_rank_score)`"
   ]
  },
  {
   "cell_type": "markdown",
   "metadata": {},
   "source": [
    "average page rank score for cases defendants: 0.5268351389034323"
   ]
  },
  {
   "cell_type": "markdown",
   "metadata": {},
   "source": [
    "`MATCH (n:Case) WHERE n.female_defendant = \"1 female\" RETURN AVG(n.page_rank_score)`"
   ]
  },
  {
   "cell_type": "markdown",
   "metadata": {},
   "source": [
    "average page rank score for cases with female defendants: 0.5205913061322096"
   ]
  },
  {
   "cell_type": "markdown",
   "metadata": {},
   "source": [
    "`MATCH (n:Case) WHERE n.female_defendant = \"0 nonfemale\" RETURN AVG(n.page_rank_score)`"
   ]
  },
  {
   "cell_type": "markdown",
   "metadata": {},
   "source": [
    "average page rank score for cases with male defendants: 0.5260501571201543"
   ]
  },
  {
   "cell_type": "markdown",
   "metadata": {},
   "source": [
    "`MATCH (n:Judge) RETURN AVG(n.page_rank_score)`"
   ]
  },
  {
   "cell_type": "markdown",
   "metadata": {},
   "source": [
    "average page rank score for judges: 22.285623828167502"
   ]
  },
  {
   "cell_type": "markdown",
   "metadata": {},
   "source": [
    "`MATCH (n:Judge) WHERE n.judge_female = \"1 female\" RETURN AVG(n.page_rank_score)`"
   ]
  },
  {
   "cell_type": "markdown",
   "metadata": {},
   "source": [
    "average page rank score for female judges: 19.653472457940392"
   ]
  },
  {
   "cell_type": "markdown",
   "metadata": {},
   "source": [
    "`MATCH (n:Judge) WHERE n.judge_female = \"0 nonfemale\" RETURN AVG(n.page_rank_score)`"
   ]
  },
  {
   "cell_type": "markdown",
   "metadata": {},
   "source": [
    "average page rank score for non-female judges: 23.559010410462946"
   ]
  },
  {
   "cell_type": "markdown",
   "metadata": {},
   "source": [
    "## Query: exploring relations between female defendants and female judges"
   ]
  },
  {
   "cell_type": "markdown",
   "metadata": {},
   "source": [
    "Key:\n",
    "- Female - Female : female defendant, female judge\n",
    "- Female - Nonfemale : female defendant, nonfemale judge\n",
    "- Male - Female : male defendant, female judge\n",
    "- Male - Nonfemale : male defendant, nonfemale judge"
   ]
  },
  {
   "cell_type": "markdown",
   "metadata": {},
   "source": [
    "`MATCH (n:Case)-[r:JUDGED]-(m:Judge) RETURN n.female_defendant AS defendant_gender, m.judge_female AS judge_gender, COUNT(r) AS frequency, AVG(n.page_rank_score) AS average_page_rank`"
   ]
  },
  {
   "cell_type": "markdown",
   "metadata": {},
   "source": [
    "- female - female,\tcount: 244390,\taverage page rank: 0.6450088000710372\t\n",
    "- female - nonfemale,\tcount: 635649,average page rank: 0.6524839655877823\n",
    "- male - female,\tcount: 259412,\taverage page rank: 0.651472444456763\n",
    "- male - nonfemale,\tcount: 740082,\taverage page rank: 0.6536335921621823"
   ]
  },
  {
   "cell_type": "markdown",
   "metadata": {},
   "source": [
    "### Proportions\n",
    "- Female - Female: 0.13002698\n",
    "- Female - Nonfemale: 0.338195179\n",
    "- Male - Female: 0.138019391\n",
    "- Male - Nonfemale: 0.39375845"
   ]
  },
  {
   "cell_type": "markdown",
   "metadata": {},
   "source": [
    "## Dispositons"
   ]
  },
  {
   "cell_type": "markdown",
   "metadata": {},
   "source": [
    "### \"accepted\" disposition (disposition code 4)\n",
    "- Female - Female 0.084631674\n",
    "- Female - Nonfemale 0.304719407\n",
    "- Male - Female 0.090001513\n",
    "- Male - Nonfemale 0.520647406\n",
    "- Female judges are under-represented in accepted dispositions."
   ]
  },
  {
   "cell_type": "markdown",
   "metadata": {},
   "source": [
    "### \"acquitted\" disposition (disposition code 5)\n",
    "- Female - Female 0.199222829\n",
    "- Female - Nonfemale 0.389590135\n",
    "- Male - Female 0.141371152\n",
    "- Male - Nonfemale 0.269815884\n",
    "- Female judges with female defendants are slightly overrepresented, while male judges with male defendants are underrepresented."
   ]
  },
  {
   "cell_type": "markdown",
   "metadata": {},
   "source": [
    "### \"allowed\" disposition (disposition code 6)\n",
    "- Female - Female 0.10209578\n",
    "- Female - Nonfemale 0.411833312\n",
    "- Male - Female 0.107095634\n",
    "- Male - Nonfemale 0.378975274\n",
    "- Female defendants with male judges are underrepresented."
   ]
  },
  {
   "cell_type": "markdown",
   "metadata": {},
   "source": [
    "### \"bail granted\" disposition (disposition code 8)\n",
    "- Female - Female 0.21611143\n",
    "- Female - Nonfemale 0.297960942\n",
    "- Male - Female 0.205341758\n",
    "- Male - Nonfemale 0.28058587\n",
    "- Female judges are overrepresented, while male judges are underrepresented."
   ]
  },
  {
   "cell_type": "markdown",
   "metadata": {},
   "source": [
    "### \"bail refused\" disposition (disposition code 9)\n",
    "- Female - Female 0.093635995\n",
    "- Female - Nonfemale 0.446291042\n",
    "- Male - Female 0.119983786\n",
    "- Male - Nonfemale 0.446291042\n",
    "- Male judges are overrepresented, while female judges are underrepresented."
   ]
  },
  {
   "cell_type": "markdown",
   "metadata": {},
   "source": [
    "### \"committed\" disposition (disposition code 12)\n",
    "- Female - Female 0.140399988\n",
    "- Female - Nonfemale 0.390221144\n",
    "- Male - Female 0.140399988\n",
    "- Male - Nonfemale 0.275636839\n",
    "- Male judges with male defendants are underrepresented."
   ]
  },
  {
   "cell_type": "markdown",
   "metadata": {},
   "source": [
    "### \"convicted\" disposition (disposition code 17)\n",
    "- Female - Female 0.160742343\n",
    "- Female - Nonfemale 0.258043949\n",
    "- Male - Female 0.214140954\n",
    "- Male - Nonfemale 0.367072754"
   ]
  },
  {
   "cell_type": "markdown",
   "metadata": {},
   "source": [
    "### \"decided\" disposition (disposition code 18)\n",
    "- Female - Female 0.07097254\n",
    "- Female - Nonfemale 0.226865455\n",
    "- Male - Female 0.121231908\n",
    "- Male - Nonfemale 0.580930098\n",
    "- Male judges with male defendants are overrepresnted."
   ]
  },
  {
   "cell_type": "markdown",
   "metadata": {},
   "source": [
    "### \"dismissed\" disposition (disposition code 20)\n",
    "- Female - Female 0.127693564\n",
    "- Female - Nonfemale 0.368198525\n",
    "- Male - Female 0.122949047\n",
    "- Male - Nonfemale 0.381158863"
   ]
  },
  {
   "cell_type": "markdown",
   "metadata": {},
   "source": [
    "### \"disposed\" disposition (disposition code 22)\n",
    "- Female - Female 0.096732335\n",
    "- Female - Nonfemale 0.279913121\n",
    "- Male - Female 0.172709546\n",
    "- Male - Nonfemale 0.450644998\n",
    "- Female defendants are underrepresented while male defendants are overrepresented."
   ]
  },
  {
   "cell_type": "markdown",
   "metadata": {},
   "source": [
    "### \"fine\" disposition (disposition code 26)\n",
    "- Female - Female 0.07864667\n",
    "- Female - Nonfemale 0.276319705\n",
    "- Male - Female 0.143129203\n",
    "- Male - Nonfemale 0.501904422\n",
    "- Female judges with female defendants are underrepresented, while male judges with male defendants are overrepresented."
   ]
  },
  {
   "cell_type": "markdown",
   "metadata": {},
   "source": [
    "### \"judgement\" disposition (disposition code 27)\n",
    "- Female - Female 0.196561157\n",
    "- Female - Nonfemale 0.406747427\n",
    "- Male - Female 0.10855803\n",
    "- Male - Nonfemale 0.288133385\n",
    "- Male defendants are underrepresented, while female defendants are overrepresented."
   ]
  },
  {
   "cell_type": "markdown",
   "metadata": {},
   "source": [
    "### \"judgement\" disposition (disposition code 27)\n",
    "- Female - Female 0.196561157\n",
    "- Female - Nonfemale 0.406747427\n",
    "- Male - Female 0.10855803\n",
    "- Male - Nonfemale 0.288133385\n",
    "- Male defendants are underrepresented, while female defendants are overrepresented."
   ]
  },
  {
   "cell_type": "markdown",
   "metadata": {},
   "source": [
    "### \"referred to lok adalat\" disposition (disposition code 37)\n",
    "- Female - Female 0.109843334\n",
    "- Female - Nonfemale 0.216435117\n",
    "- Male - Female 0.148211646\n",
    "- Male - Nonfemale 0.525509902\n",
    "- Male defendants are overrepresented, while female defendants are underrepresented."
   ]
  },
  {
   "cell_type": "markdown",
   "metadata": {},
   "source": [
    "### \"reject\" disposition (disposition code 38)\n",
    "- Female - Female 0.083542211\n",
    "- Female - Nonfemale 0.452882513\n",
    "- Male - Female 0.075355981\n",
    "- Male - Nonfemale 0.388219295\n",
    "- Female judges are underrepresented."
   ]
  },
  {
   "cell_type": "markdown",
   "metadata": {},
   "source": [
    "### \"reject\" disposition (disposition code 43)\n",
    "- Female - Female 0.108259147\n",
    "- Female - Nonfemale 0.322216699\n",
    "- Male - Female 0.149366593\n",
    "- Male - Nonfemale 0.420157561"
   ]
  },
  {
   "cell_type": "markdown",
   "metadata": {},
   "source": [
    "### \"withdrawn\" disposition (disposition code 45)\n",
    "- Female - Female 0.137989432\n",
    "- Female - Nonfemale 0.324007587\n",
    "- Male - Female 0.164340875\n",
    "- Male - Nonfemale 0.373662105"
   ]
  },
  {
   "cell_type": "markdown",
   "metadata": {},
   "source": [
    "## Query: exploring relations between cases and acts"
   ]
  },
  {
   "cell_type": "markdown",
   "metadata": {},
   "source": [
    "`MATCH (n:Case)-[r:USES_ACT]-(m:Act) RETURN n.female_defendant AS defendant_gender, m.act_sum AS act, COUNT(r) AS frequency ORDER BY m.act_sum`"
   ]
  },
  {
   "cell_type": "markdown",
   "metadata": {},
   "source": [
    "## Query: exploring relations disposition"
   ]
  },
  {
   "cell_type": "markdown",
   "metadata": {},
   "source": [
    "`MATCH (n:Case)-[r:JUDGED]-(m:Judge) RETURN n.disp_name as disp, n.female_defendant AS defendant_gender, m.judge_female as judge_gender, COUNT(n) ORDER BY n.disp_name`"
   ]
  }
 ],
 "metadata": {
  "kernelspec": {
   "display_name": "Python 3",
   "language": "python",
   "name": "python3"
  },
  "language_info": {
   "codemirror_mode": {
    "name": "ipython",
    "version": 3
   },
   "file_extension": ".py",
   "mimetype": "text/x-python",
   "name": "python",
   "nbconvert_exporter": "python",
   "pygments_lexer": "ipython3",
   "version": "3.8.5"
  }
 },
 "nbformat": 4,
 "nbformat_minor": 5
}
