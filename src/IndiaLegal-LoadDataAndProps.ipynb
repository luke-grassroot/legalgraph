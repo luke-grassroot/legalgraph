{
 "cells": [
  {
   "cell_type": "code",
   "execution_count": null,
   "id": "strategic-bronze",
   "metadata": {},
   "outputs": [],
   "source": [
    "import pandas as pd"
   ]
  },
  {
   "cell_type": "code",
   "execution_count": null,
   "id": "given-marble",
   "metadata": {},
   "outputs": [],
   "source": [
    "from py2neo import Graph, Node, Relationship"
   ]
  },
  {
   "cell_type": "code",
   "execution_count": null,
   "id": "interested-castle",
   "metadata": {},
   "outputs": [],
   "source": [
    "from py2neo.bulk import merge_nodes, create_nodes, create_relationships, merge_relationships"
   ]
  },
  {
   "cell_type": "code",
   "execution_count": null,
   "id": "middle-removal",
   "metadata": {},
   "outputs": [],
   "source": [
    "from math import ceil\n",
    "from time import time\n",
    "import gc\n",
    "import subprocess"
   ]
  },
  {
   "cell_type": "code",
   "execution_count": null,
   "id": "operational-palestine",
   "metadata": {},
   "outputs": [],
   "source": [
    "from lg_utils import connect_to_graph, count_nodes, count_rels, load_csv, add_csv_to_graph, add_relationships"
   ]
  },
  {
   "cell_type": "code",
   "execution_count": null,
   "id": "sized-missouri",
   "metadata": {},
   "outputs": [],
   "source": [
    "graph = connect_to_graph()"
   ]
  },
  {
   "cell_type": "markdown",
   "id": "bound-message",
   "metadata": {},
   "source": [
    "## Initial counts"
   ]
  },
  {
   "cell_type": "code",
   "execution_count": null,
   "id": "pharmaceutical-weekly",
   "metadata": {},
   "outputs": [],
   "source": [
    "# current counts\n",
    "number_judges = count_nodes(graph, \"Judge\")\n",
    "number_cases = count_nodes(graph, \"Case\")\n",
    "number_acts = count_nodes(graph, \"Act\")\n",
    "\n",
    "number_judge_rel = count_rels(graph, \"JUDGED\")\n",
    "number_act_rel = count_rels(graph, \"USES_ACT\")\n",
    "\n",
    "print(f\"In graph: judges: {number_judges}, cases: {number_judges}, acts: {number_acts}, judge-case rels: {number_judge_rel}, case-act rels: {number_act_rel}\")"
   ]
  },
  {
   "cell_type": "markdown",
   "id": "illegal-handy",
   "metadata": {},
   "source": [
    "## Load judges and add them to the graph"
   ]
  },
  {
   "cell_type": "code",
   "execution_count": null,
   "id": "daily-digest",
   "metadata": {},
   "outputs": [],
   "source": [
    "jdf = load_csv('../data/judges_clean.csv', datetime_keys=[\"start_date\", \"end_date\"], number_rows=10)"
   ]
  },
  {
   "cell_type": "code",
   "execution_count": null,
   "id": "female-clinic",
   "metadata": {},
   "outputs": [],
   "source": [
    "jdf.head()"
   ]
  },
  {
   "cell_type": "code",
   "execution_count": null,
   "id": "digital-measure",
   "metadata": {},
   "outputs": [],
   "source": [
    "judge_graph_properties = [\"judge_id\", \"judge_position\", \"judge_female\", \"judge_start\", \"judge_end\"]\n",
    "judge_df_keys = [\"ddl_judge_id\", \"judge_position\", \"female_judge\", \"start_date_str\", \"end_date_str\"]\n",
    "judge_index = {\"index_name\": \"idx_judge_id\", \"index_key\": \"judge_id\"}\n",
    "\n",
    "add_judges = False\n",
    "if add_judges:\n",
    "    add_csv_to_graph(\n",
    "        graph=graph,\n",
    "        csv_file=\"../data/judges_clean.csv\",\n",
    "        label=\"Judge\",\n",
    "        merge_key=(\"Judge\", \"judge_id\"),\n",
    "        graph_keys=judge_graph_properties,\n",
    "        df_keys=judge_df_keys,\n",
    "        index_to_add=judge_index\n",
    "    )"
   ]
  },
  {
   "cell_type": "markdown",
   "id": "extraordinary-differential",
   "metadata": {},
   "source": [
    "## Load cases"
   ]
  },
  {
   "cell_type": "code",
   "execution_count": null,
   "id": "forbidden-strike",
   "metadata": {},
   "outputs": [],
   "source": [
    "cdf = load_csv('../data/cases/cases_2018.csv', datetime_keys=[\"date_of_filing\", \"date_of_decision\"], number_rows=10)"
   ]
  },
  {
   "cell_type": "code",
   "execution_count": null,
   "id": "harmful-dining",
   "metadata": {},
   "outputs": [],
   "source": [
    "cdf.head()"
   ]
  },
  {
   "cell_type": "code",
   "execution_count": null,
   "id": "excessive-ghost",
   "metadata": {},
   "outputs": [],
   "source": [
    "case_graph_properties = [\n",
    "    \"case_id\", \"year\", \"state_code\", \"dist_code\", \"court_no\", \"judge_position\", \"date_of_filing\", \"date_of_decision\"\n",
    "]\n",
    "df_column_keys = [\"ddl_case_id\", \"year\", \"state_code\", \"dist_code\", \"court_no\", \"judge_position\", \"date_of_filing_str\", \"date_of_decision_str\"]\n",
    "\n",
    "add_cases = False # flip to false to initiate\n",
    "if add_cases:\n",
    "    add_csv_to_graph(\n",
    "        graph=graph,\n",
    "        csv_file=\"../data/cases/cases_2018.csv\",\n",
    "        label=\"Case\",\n",
    "        merge_key=(\"Case\", \"case_id\"),\n",
    "        graph_keys=case_graph_properties,\n",
    "        index_to_add={\"index_name\": \"idx_case_id\", \"index_key\": \"case_id\"}\n",
    "\n",
    "    )"
   ]
  },
  {
   "cell_type": "markdown",
   "id": "useful-wichita",
   "metadata": {},
   "source": [
    "## Wire up judge-case relationships"
   ]
  },
  {
   "cell_type": "code",
   "execution_count": null,
   "id": "flush-monitoring",
   "metadata": {},
   "outputs": [],
   "source": [
    "all_case_ids = pd.read_csv('../data/cases/cases_2018.csv', usecols=['ddl_case_id'])\n",
    "\n",
    "number_relationships = count_total_rows('../data/judge_case_merge_key.csv')\n",
    "number_in_graph = count_rels(graph, \"JUDGED\")\n",
    "print(\"Number relationships in data: \", number_relationships, \" and in graph: \", number_in_graph)"
   ]
  },
  {
   "cell_type": "code",
   "execution_count": null,
   "id": "distant-eleven",
   "metadata": {},
   "outputs": [],
   "source": [
    "graph_rel_keys = [(\"Judge\", \"judge_id\"), (\"Case\", \"case_id\")]\n",
    "rel_df_keys = [\"ddl_filing_judge_id\", \"ddl_case_id\"]\n",
    "prop_dict = { \"type\": \"FILING_JUDGE\" }\n",
    "\n",
    "add_judge_rels = False\n",
    "if add_judge_rels:\n",
    "    add_relationships(\n",
    "        graph=graph, \n",
    "        join_csv_file='../data/judge_case_merge_key.csv', \n",
    "        relationship_type=\"FILING\",\n",
    "        existence_id_series=all_case_ids.ddl_case_id, \n",
    "        existence_id_key=\"ddl_case_id\",                     \n",
    "        graph_keys=graph_rel_keys, \n",
    "        rel_keys=rel_df_keys, \n",
    "        prop_dict=prop_dict,\n",
    "        df_start=df_read_start)"
   ]
  },
  {
   "cell_type": "code",
   "execution_count": null,
   "id": "flush-aberdeen",
   "metadata": {},
   "outputs": [],
   "source": [
    "number_in_graph = count_rels(graph, \"JUDGED\")\n",
    "print(\"Number in graph: \", number_in_graph)"
   ]
  },
  {
   "cell_type": "markdown",
   "id": "unexpected-slide",
   "metadata": {},
   "source": [
    "## Load in the acts and sections"
   ]
  },
  {
   "cell_type": "code",
   "execution_count": null,
   "id": "related-luther",
   "metadata": {},
   "outputs": [],
   "source": [
    "act_properties = [\"act_id\", \"total_count\", \"act_sum\"]\n",
    "act_df_keys = [\"act\", \"count\", \"act_s\"]\n",
    "act_index = {\"index_name\": \"idx_act_id\", \"index_key\": \"act_id\"}\n",
    "\n",
    "add_acts = False\n",
    "max_iter = None\n",
    "if add_acts:\n",
    "    acts_raw = pd.read_csv('../data/keys/act_key.csv')\n",
    "    acts_raw = acts[3:] # first rows are NA and ' and \"\n",
    "    acts.to_csv('../data/acts.csv')\n",
    "    \n",
    "    add_csv_to_graph(\n",
    "        graph=graph,\n",
    "        csv_file=\"../data/acts.csv\",\n",
    "        label=\"Act\",\n",
    "        merge_key=(\"Act\", \"act_id\"),\n",
    "        graph_keys=act_properties,\n",
    "        df_keys=act_df_keys,\n",
    "        index_to_add=act_index,\n",
    "        max_iter=max_iter\n",
    "    )"
   ]
  },
  {
   "cell_type": "code",
   "execution_count": null,
   "id": "successful-branch",
   "metadata": {},
   "outputs": [],
   "source": [
    "# there are _a lot_ of these, and all are central, so distort things, so remove\n",
    "criminal_procedure_variants = [\n",
    "    \"CODE OF CRIMINAL PROCEDURE, 1973\",\n",
    "    \"Code of Criminal Procedure, 1973\",\n",
    "    \"Code of Criminal Procedure 1973\",\n",
    "    \"CODE OF CRIMINAL PROCEDURE\",\n",
    "    \"Criminal Procedure Code\",\n",
    "    \"Code of Criminal Procedure, 1973 1974\",\n",
    "    \"CodeofCriminalProcedure\",\n",
    "    \"Cr.P.C. \",\n",
    "    \"Code of Criminal Procedure\",\n",
    "    \"2.Code of Criminal Procedure, 1973\",\n",
    "    \"Cr.P.C.\",\n",
    "    \"Cr.P.C\",\n",
    "    \"Cr.P.c\",\n",
    "    \"CR.P.C\"\n",
    "]"
   ]
  },
  {
   "cell_type": "markdown",
   "id": "sonic-union",
   "metadata": {},
   "source": [
    "## Now do case-act relationships"
   ]
  },
  {
   "cell_type": "code",
   "execution_count": null,
   "id": "democratic-shelf",
   "metadata": {},
   "outputs": [],
   "source": [
    "total_act_section_rels = count_total_rows('../data/acts_sections.csv')\n",
    "rels_in_graph = count_rels('USES_ACT')\n",
    "print('Number of total relationships: ', total_act_section_rels, ' and in graph: ', rels_in_graph)"
   ]
  },
  {
   "cell_type": "code",
   "execution_count": null,
   "id": "musical-blank",
   "metadata": {},
   "outputs": [],
   "source": [
    "df_read_start = number_in_graph\n",
    "last_stop = 60020612 # where last stopped - a little manual for now\n",
    "df_read_start = int(last_stop + rows_per_df)"
   ]
  },
  {
   "cell_type": "code",
   "execution_count": null,
   "id": "professional-sunday",
   "metadata": {},
   "outputs": [],
   "source": [
    "graph_rel_keys = [(\"Case\", \"case_id\"), (\"Act\", \"act_id\")]\n",
    "rel_df_keys = [\"ddl_case_id\", \"act\"]\n",
    "\n",
    "add_case_act_rels = False\n",
    "if add_case_act_rels:\n",
    "    add_relationships(\n",
    "        graph=graph, \n",
    "        join_csv_file='../data/acts_sections.csv', \n",
    "        relationship_type=\"USES_ACT\",\n",
    "        target_id_series=all_case_ids.ddl_case_id, \n",
    "        target_id_key=\"ddl_case_id\",                     \n",
    "        graph_keys=graph_rel_keys, \n",
    "        rel_keys=rel_df_keys, \n",
    "        df_start=df_read_start)"
   ]
  },
  {
   "cell_type": "markdown",
   "id": "hundred-cigarette",
   "metadata": {},
   "source": [
    "## Loading remainder of entities and relationships"
   ]
  },
  {
   "cell_type": "markdown",
   "id": "dried-harmony",
   "metadata": {},
   "source": [
    "What we have:\n",
    "\n",
    "* States and districts (for doing subgraphs): state_code, dist_code\n",
    "* Gender properties (similar): female_defendant, female_adv_defendant, female_adv_pet\n",
    "* Type (type_name), purpose (purpose_name), dispensation (disp_name)\n",
    "* Sections: but with just the raw text, _not_ with the act in the section file, so will have to reconstruct that\n",
    "* "
   ]
  }
 ],
 "metadata": {
  "kernelspec": {
   "display_name": "legalgraph",
   "language": "python",
   "name": "legalgraph"
  },
  "language_info": {
   "codemirror_mode": {
    "name": "ipython",
    "version": 3
   },
   "file_extension": ".py",
   "mimetype": "text/x-python",
   "name": "python",
   "nbconvert_exporter": "python",
   "pygments_lexer": "ipython3",
   "version": "3.8.5"
  }
 },
 "nbformat": 4,
 "nbformat_minor": 5
}
